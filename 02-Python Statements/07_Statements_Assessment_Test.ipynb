{
  "nbformat": 4,
  "nbformat_minor": 0,
  "metadata": {
    "kernelspec": {
      "display_name": "Python 3",
      "language": "python",
      "name": "python3"
    },
    "language_info": {
      "codemirror_mode": {
        "name": "ipython",
        "version": 3
      },
      "file_extension": ".py",
      "mimetype": "text/x-python",
      "name": "python",
      "nbconvert_exporter": "python",
      "pygments_lexer": "ipython3",
      "version": "3.6.6"
    },
    "colab": {
      "name": "07-Statements Assessment Test.ipynb",
      "provenance": []
    }
  },
  "cells": [
    {
      "cell_type": "markdown",
      "metadata": {
        "id": "ir1IipjIFdpZ"
      },
      "source": [
        "___\n",
        "\n",
        "<a href='https://www.udemy.com/user/joseportilla/'><img src='../Pierian_Data_Logo.png'/></a>\n",
        "___\n",
        "<center><em>Content Copyright by Pierian Data</em></center>"
      ]
    },
    {
      "cell_type": "markdown",
      "metadata": {
        "collapsed": true,
        "id": "CSlujS5QFdpe"
      },
      "source": [
        "# Statements Assessment Test\n",
        "Let's test your knowledge!"
      ]
    },
    {
      "cell_type": "markdown",
      "metadata": {
        "id": "5_FOivWHFdpi"
      },
      "source": [
        "_____\n",
        "**Use <code>for</code>, .split(), and <code>if</code> to create a Statement that will print out words that start with 's':**"
      ]
    },
    {
      "cell_type": "code",
      "metadata": {
        "id": "1pQ2nvjPFdpk"
      },
      "source": [
        "st = 'Print only the words that start with s in this sentence'"
      ],
      "execution_count": 2,
      "outputs": []
    },
    {
      "cell_type": "code",
      "metadata": {
        "id": "SjtphctAFdp4",
        "outputId": "7d45355b-c2be-4d5e-c41e-bb05cb48eb8c",
        "colab": {
          "base_uri": "https://localhost:8080/"
        }
      },
      "source": [
        "list_of_words = st.split(' ')\n",
        "for word in list_of_words:\n",
        "  if word[0]=='s':\n",
        "    print(word)"
      ],
      "execution_count": 6,
      "outputs": [
        {
          "output_type": "stream",
          "text": [
            "start\n",
            "s\n",
            "sentence\n"
          ],
          "name": "stdout"
        }
      ]
    },
    {
      "cell_type": "markdown",
      "metadata": {
        "id": "PEshEvluFdqC"
      },
      "source": [
        "______\n",
        "**Use range() to print all the even numbers from 0 to 10.**"
      ]
    },
    {
      "cell_type": "code",
      "metadata": {
        "id": "36pA4umVFdqE",
        "outputId": "bb954615-19b6-40eb-d58c-70142bd0bfe5",
        "colab": {
          "base_uri": "https://localhost:8080/"
        }
      },
      "source": [
        "even_numbers = list(range(2,11,2))\n",
        "print(even_numbers)"
      ],
      "execution_count": 9,
      "outputs": [
        {
          "output_type": "stream",
          "text": [
            "[2, 4, 6, 8, 10]\n"
          ],
          "name": "stdout"
        }
      ]
    },
    {
      "cell_type": "markdown",
      "metadata": {
        "id": "hjTZAXIBFdqM"
      },
      "source": [
        "___\n",
        "**Use a List Comprehension to create a list of all numbers between 1 and 50 that are divisible by 3.**"
      ]
    },
    {
      "cell_type": "code",
      "metadata": {
        "id": "b1AzpEYaFdqP",
        "outputId": "e0405908-4cc7-4ab2-fc6a-b0aeac70375b",
        "colab": {
          "base_uri": "https://localhost:8080/"
        }
      },
      "source": [
        "#Code in this cell\n",
        "new_list = [num for num in range(1,50) if num%3==0]\n",
        "print(new_list)"
      ],
      "execution_count": 10,
      "outputs": [
        {
          "output_type": "stream",
          "text": [
            "[3, 6, 9, 12, 15, 18, 21, 24, 27, 30, 33, 36, 39, 42, 45, 48]\n"
          ],
          "name": "stdout"
        }
      ]
    },
    {
      "cell_type": "markdown",
      "metadata": {
        "id": "dQmeg9HZFdqW"
      },
      "source": [
        "_____\n",
        "**Go through the string below and if the length of a word is even print \"even!\"**"
      ]
    },
    {
      "cell_type": "code",
      "metadata": {
        "id": "DPrEYY4vFdqY"
      },
      "source": [
        "st = 'Print every word in this sentence that has an even number of letters'"
      ],
      "execution_count": 14,
      "outputs": []
    },
    {
      "cell_type": "code",
      "metadata": {
        "id": "dGeU7slTFdqi",
        "outputId": "1f48d606-5937-4ab2-c058-7f4ae559f027",
        "colab": {
          "base_uri": "https://localhost:8080/"
        }
      },
      "source": [
        "word_list = st.split(' ')\n",
        "for word in word_list:\n",
        "  if len(word)%2==0:\n",
        "    print('{} - even!'.format(word))"
      ],
      "execution_count": 15,
      "outputs": [
        {
          "output_type": "stream",
          "text": [
            "word - even!\n",
            "in - even!\n",
            "this - even!\n",
            "sentence - even!\n",
            "that - even!\n",
            "an - even!\n",
            "even - even!\n",
            "number - even!\n",
            "of - even!\n"
          ],
          "name": "stdout"
        }
      ]
    },
    {
      "cell_type": "markdown",
      "metadata": {
        "id": "OL3iPYQ9Fdqp"
      },
      "source": [
        "____\n",
        "**Write a program that prints the integers from 1 to 100. But for multiples of three print \"Fizz\" instead of the number, and for the multiples of five print \"Buzz\". For numbers which are multiples of both three and five print \"FizzBuzz\".**"
      ]
    },
    {
      "cell_type": "code",
      "metadata": {
        "id": "_ETj2F67Fdqq",
        "outputId": "05a6f563-0ff3-4a9b-8d49-1719b1a57cc3",
        "colab": {
          "base_uri": "https://localhost:8080/"
        }
      },
      "source": [
        "for num in range(1,101):\n",
        "  if num%15==0:\n",
        "    print('FizzBuzz')\n",
        "    continue\n",
        "  elif num%5 ==0:\n",
        "    print('Buzz')\n",
        "    continue\n",
        "  elif num%3==0:\n",
        "    print('Fizz')\n",
        "  else:\n",
        "    print(num)"
      ],
      "execution_count": 17,
      "outputs": [
        {
          "output_type": "stream",
          "text": [
            "1\n",
            "2\n",
            "Fizz\n",
            "4\n",
            "Buzz\n",
            "Fizz\n",
            "7\n",
            "8\n",
            "Fizz\n",
            "Buzz\n",
            "11\n",
            "Fizz\n",
            "13\n",
            "14\n",
            "FizzBuzz\n",
            "16\n",
            "17\n",
            "Fizz\n",
            "19\n",
            "Buzz\n",
            "Fizz\n",
            "22\n",
            "23\n",
            "Fizz\n",
            "Buzz\n",
            "26\n",
            "Fizz\n",
            "28\n",
            "29\n",
            "FizzBuzz\n",
            "31\n",
            "32\n",
            "Fizz\n",
            "34\n",
            "Buzz\n",
            "Fizz\n",
            "37\n",
            "38\n",
            "Fizz\n",
            "Buzz\n",
            "41\n",
            "Fizz\n",
            "43\n",
            "44\n",
            "FizzBuzz\n",
            "46\n",
            "47\n",
            "Fizz\n",
            "49\n",
            "Buzz\n",
            "Fizz\n",
            "52\n",
            "53\n",
            "Fizz\n",
            "Buzz\n",
            "56\n",
            "Fizz\n",
            "58\n",
            "59\n",
            "FizzBuzz\n",
            "61\n",
            "62\n",
            "Fizz\n",
            "64\n",
            "Buzz\n",
            "Fizz\n",
            "67\n",
            "68\n",
            "Fizz\n",
            "Buzz\n",
            "71\n",
            "Fizz\n",
            "73\n",
            "74\n",
            "FizzBuzz\n",
            "76\n",
            "77\n",
            "Fizz\n",
            "79\n",
            "Buzz\n",
            "Fizz\n",
            "82\n",
            "83\n",
            "Fizz\n",
            "Buzz\n",
            "86\n",
            "Fizz\n",
            "88\n",
            "89\n",
            "FizzBuzz\n",
            "91\n",
            "92\n",
            "Fizz\n",
            "94\n",
            "Buzz\n",
            "Fizz\n",
            "97\n",
            "98\n",
            "Fizz\n",
            "Buzz\n"
          ],
          "name": "stdout"
        }
      ]
    },
    {
      "cell_type": "markdown",
      "metadata": {
        "id": "xFQlSePFFdqz"
      },
      "source": [
        "____\n",
        "**Use List Comprehension to create a list of the first letters of every word in the string below:**"
      ]
    },
    {
      "cell_type": "code",
      "metadata": {
        "id": "-dzOwXkuFdqz"
      },
      "source": [
        "st = 'Create a list of the first letters of every word in this string'"
      ],
      "execution_count": 19,
      "outputs": []
    },
    {
      "cell_type": "code",
      "metadata": {
        "id": "Pyf4UV56Fdq7",
        "outputId": "fe1aafeb-9b20-48fc-a20e-b3d6c097d81c",
        "colab": {
          "base_uri": "https://localhost:8080/"
        }
      },
      "source": [
        "new_list=[word[0] for word in st.split(' ')]\n",
        "new_list"
      ],
      "execution_count": 20,
      "outputs": [
        {
          "output_type": "execute_result",
          "data": {
            "text/plain": [
              "['C', 'a', 'l', 'o', 't', 'f', 'l', 'o', 'e', 'w', 'i', 't', 's']"
            ]
          },
          "metadata": {
            "tags": []
          },
          "execution_count": 20
        }
      ]
    },
    {
      "cell_type": "markdown",
      "metadata": {
        "id": "LzA2ybfdFdrB"
      },
      "source": [
        "### Great Job! \n",
        " =====>>>>> THANK YOU !! <<<<<==========="
      ]
    }
  ]
}