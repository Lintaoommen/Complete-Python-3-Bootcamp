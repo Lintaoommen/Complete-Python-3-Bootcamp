{
  "nbformat": 4,
  "nbformat_minor": 0,
  "metadata": {
    "kernelspec": {
      "display_name": "Python 3",
      "language": "python",
      "name": "python3"
    },
    "language_info": {
      "codemirror_mode": {
        "name": "ipython",
        "version": 3
      },
      "file_extension": ".py",
      "mimetype": "text/x-python",
      "name": "python",
      "nbconvert_exporter": "python",
      "pygments_lexer": "ipython3",
      "version": "3.6.6"
    },
    "colab": {
      "name": "02-Object Oriented Programming Homework.ipynb",
      "provenance": []
    }
  },
  "cells": [
    {
      "cell_type": "markdown",
      "metadata": {
        "id": "IunVN8ELjWau"
      },
      "source": [
        "___\n",
        "\n",
        "<a href='https://www.udemy.com/user/joseportilla/'><img src='../Pierian_Data_Logo.png'/></a>\n",
        "___\n",
        "<center><em>Content Copyright by Pierian Data</em></center>"
      ]
    },
    {
      "cell_type": "markdown",
      "metadata": {
        "id": "6twMI2cnjWa4"
      },
      "source": [
        "# Object Oriented Programming\n",
        "## Homework Assignment\n",
        "\n",
        "#### Problem 1\n",
        "Fill in the Line class methods to accept coordinates as a pair of tuples and return the slope and distance of the line."
      ]
    },
    {
      "cell_type": "code",
      "metadata": {
        "id": "COTQ7MOIjWa9"
      },
      "source": [
        "class Line:\n",
        "    \n",
        "    def __init__(self,coor1,coor2):\n",
        "      self.x1,self.y1=coor1\n",
        "      self.x2,self.y2=coor2\n",
        "    \n",
        "    def distance(self):\n",
        "      sum = (self.x2 - self.x1)**2+(self.y2-self.y1)**2\n",
        "      return sum**(1/2)\n",
        "\n",
        "    \n",
        "    def slope(self):\n",
        "        return ((self.y2-self.y1)/(self.x2-self.x1))"
      ],
      "execution_count": 5,
      "outputs": []
    },
    {
      "cell_type": "code",
      "metadata": {
        "id": "cUwgrAa6jWbU"
      },
      "source": [
        "# EXAMPLE OUTPUT\n",
        "\n",
        "coordinate1 = (3,2)\n",
        "coordinate2 = (8,10)\n",
        "\n",
        "li = Line(coordinate1,coordinate2)"
      ],
      "execution_count": 6,
      "outputs": []
    },
    {
      "cell_type": "code",
      "metadata": {
        "id": "bVJMDZSyjWbj",
        "outputId": "8c387229-e138-44d5-de5a-8441a53ba2cf",
        "colab": {
          "base_uri": "https://localhost:8080/"
        }
      },
      "source": [
        "li.distance()"
      ],
      "execution_count": 7,
      "outputs": [
        {
          "output_type": "execute_result",
          "data": {
            "text/plain": [
              "9.433981132056603"
            ]
          },
          "metadata": {
            "tags": []
          },
          "execution_count": 7
        }
      ]
    },
    {
      "cell_type": "code",
      "metadata": {
        "id": "7-ctHkzbjWbs",
        "outputId": "f38f09a0-6339-462f-ead5-0583c8e2ab67",
        "colab": {
          "base_uri": "https://localhost:8080/"
        }
      },
      "source": [
        "li.slope()"
      ],
      "execution_count": 4,
      "outputs": [
        {
          "output_type": "execute_result",
          "data": {
            "text/plain": [
              "1.6"
            ]
          },
          "metadata": {
            "tags": []
          },
          "execution_count": 4
        }
      ]
    },
    {
      "cell_type": "markdown",
      "metadata": {
        "id": "NtqIlm5NjWb1"
      },
      "source": [
        "________\n",
        "#### Problem 2"
      ]
    },
    {
      "cell_type": "markdown",
      "metadata": {
        "id": "_1Em4egSjWb2"
      },
      "source": [
        "Fill in the class "
      ]
    },
    {
      "cell_type": "code",
      "metadata": {
        "id": "AeLeyVEujWb3"
      },
      "source": [
        "class Cylinder:\n",
        "    \n",
        "    def __init__(self,height=1,radius=1):\n",
        "        self.height = height\n",
        "        self.radius = radius\n",
        "        \n",
        "    def volume(self):\n",
        "        return self.radius*self.radius*self.height*3.14\n",
        "    \n",
        "    def surface_area(self):\n",
        "        val1= 2*3.14*self.radius*self.radius\n",
        "        val2 = 2*3.14*self.radius*self.height\n",
        "        return val1+val2"
      ],
      "execution_count": 8,
      "outputs": []
    },
    {
      "cell_type": "code",
      "metadata": {
        "id": "qdcamMbijWcA"
      },
      "source": [
        "# EXAMPLE OUTPUT\n",
        "c = Cylinder(2,3)"
      ],
      "execution_count": 9,
      "outputs": []
    },
    {
      "cell_type": "code",
      "metadata": {
        "id": "DB_ybQwljWcJ",
        "outputId": "66f788b1-7e4f-43ff-83ad-3549cbd5989e",
        "colab": {
          "base_uri": "https://localhost:8080/"
        }
      },
      "source": [
        "c.volume()"
      ],
      "execution_count": 10,
      "outputs": [
        {
          "output_type": "execute_result",
          "data": {
            "text/plain": [
              "56.52"
            ]
          },
          "metadata": {
            "tags": []
          },
          "execution_count": 10
        }
      ]
    },
    {
      "cell_type": "code",
      "metadata": {
        "id": "wv4IS-BojWcP",
        "outputId": "0547e087-0890-47de-a764-971a761733cb",
        "colab": {
          "base_uri": "https://localhost:8080/"
        }
      },
      "source": [
        "c.surface_area()"
      ],
      "execution_count": 11,
      "outputs": [
        {
          "output_type": "execute_result",
          "data": {
            "text/plain": [
              "94.19999999999999"
            ]
          },
          "metadata": {
            "tags": []
          },
          "execution_count": 11
        }
      ]
    }
  ]
}