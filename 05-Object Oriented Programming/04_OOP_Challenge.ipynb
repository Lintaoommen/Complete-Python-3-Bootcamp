{
  "nbformat": 4,
  "nbformat_minor": 0,
  "metadata": {
    "kernelspec": {
      "display_name": "Python 3",
      "language": "python",
      "name": "python3"
    },
    "language_info": {
      "codemirror_mode": {
        "name": "ipython",
        "version": 3
      },
      "file_extension": ".py",
      "mimetype": "text/x-python",
      "name": "python",
      "nbconvert_exporter": "python",
      "pygments_lexer": "ipython3",
      "version": "3.6.6"
    },
    "colab": {
      "name": "04-OOP Challenge.ipynb",
      "provenance": []
    }
  },
  "cells": [
    {
      "cell_type": "markdown",
      "metadata": {
        "id": "8B4XUuEvl3NG"
      },
      "source": [
        "___\n",
        "\n",
        "<a href='https://www.udemy.com/user/joseportilla/'><img src='../Pierian_Data_Logo.png'/></a>\n",
        "___\n",
        "<center><em>Content Copyright by Pierian Data</em></center>"
      ]
    },
    {
      "cell_type": "markdown",
      "metadata": {
        "id": "O2SYxL0Il3NQ"
      },
      "source": [
        "# Object Oriented Programming Challenge\n",
        "\n",
        "For this challenge, create a bank account class that has two attributes:\n",
        "\n",
        "* owner\n",
        "* balance\n",
        "\n",
        "and two methods:\n",
        "\n",
        "* deposit\n",
        "* withdraw\n",
        "\n",
        "As an added requirement, withdrawals may not exceed the available balance.\n",
        "\n",
        "Instantiate your class, make several deposits and withdrawals, and test to make sure the account can't be overdrawn."
      ]
    },
    {
      "cell_type": "code",
      "metadata": {
        "id": "gim3bCFul3NU"
      },
      "source": [
        "class Account():\n",
        "    owner = ''\n",
        "    balance = 0\n",
        "\n",
        "    def __init__(self,owner,balance):\n",
        "      self.owner = owner\n",
        "      self.balance = balance\n",
        "    \n",
        "    def deposit(self,amount):\n",
        "      self.balance+=amount\n",
        "      print(f'Your updated balance is {self.balance}')\n",
        "    \n",
        "    def withdraw(self,amount):\n",
        "      if amount>self.balance:\n",
        "        print(\"Sorry, the amount is more than your account balance\")\n",
        "      else:\n",
        "        self.balance-=amount\n",
        "        print(f'Your updated balance is {self.balance}')\n",
        "    \n",
        "    def __str__(self):\n",
        "      return(f'Account owner :{self.owner}\\n Account balance:$ {self.balance}')"
      ],
      "execution_count": 25,
      "outputs": []
    },
    {
      "cell_type": "code",
      "metadata": {
        "id": "Atpcr7DHl3Ns"
      },
      "source": [
        "# 1. Instantiate the class\n",
        "acct1 = Account('Jose',100)"
      ],
      "execution_count": 26,
      "outputs": []
    },
    {
      "cell_type": "code",
      "metadata": {
        "id": "ETerjcSPl3N3",
        "outputId": "a3576408-0d41-468b-a82d-ff88fd03eb46",
        "colab": {
          "base_uri": "https://localhost:8080/"
        }
      },
      "source": [
        "# 2. Print the object\n",
        "print(acct1)"
      ],
      "execution_count": 27,
      "outputs": [
        {
          "output_type": "stream",
          "text": [
            "Account owner :Jose\n",
            " Account balance:$ 100\n"
          ],
          "name": "stdout"
        }
      ]
    },
    {
      "cell_type": "code",
      "metadata": {
        "id": "1kezH3_dl3OC",
        "outputId": "d7f81278-030e-4d19-fbf1-cc12367b704c",
        "colab": {
          "base_uri": "https://localhost:8080/",
          "height": 36
        }
      },
      "source": [
        "# 3. Show the account owner attribute\n",
        "acct1.owner"
      ],
      "execution_count": 28,
      "outputs": [
        {
          "output_type": "execute_result",
          "data": {
            "application/vnd.google.colaboratory.intrinsic+json": {
              "type": "string"
            },
            "text/plain": [
              "'Jose'"
            ]
          },
          "metadata": {
            "tags": []
          },
          "execution_count": 28
        }
      ]
    },
    {
      "cell_type": "code",
      "metadata": {
        "id": "QY-cm4Nql3OL",
        "outputId": "bec70c5c-4103-478f-8fd1-62acea1037c4",
        "colab": {
          "base_uri": "https://localhost:8080/"
        }
      },
      "source": [
        "# 4. Show the account balance attribute\n",
        "acct1.balance"
      ],
      "execution_count": 29,
      "outputs": [
        {
          "output_type": "execute_result",
          "data": {
            "text/plain": [
              "100"
            ]
          },
          "metadata": {
            "tags": []
          },
          "execution_count": 29
        }
      ]
    },
    {
      "cell_type": "code",
      "metadata": {
        "id": "P6SQmzUel3OT",
        "outputId": "b73d8396-ff5b-4a8a-f088-3b29bb33c5bc",
        "colab": {
          "base_uri": "https://localhost:8080/"
        }
      },
      "source": [
        "# 5. Make a series of deposits and withdrawals\n",
        "acct1.deposit(50)"
      ],
      "execution_count": 30,
      "outputs": [
        {
          "output_type": "stream",
          "text": [
            "Your updated balance is 150\n"
          ],
          "name": "stdout"
        }
      ]
    },
    {
      "cell_type": "code",
      "metadata": {
        "id": "tuBlhj51l3Od",
        "outputId": "ac5ab9e7-6558-4d08-c445-2ad16c50a794",
        "colab": {
          "base_uri": "https://localhost:8080/"
        }
      },
      "source": [
        "acct1.withdraw(75)"
      ],
      "execution_count": 31,
      "outputs": [
        {
          "output_type": "stream",
          "text": [
            "Your updated balance is 75\n"
          ],
          "name": "stdout"
        }
      ]
    },
    {
      "cell_type": "code",
      "metadata": {
        "id": "AvdKaVLol3Oj",
        "outputId": "ba9618cb-ebb5-4ce6-89b8-ca45884633d6",
        "colab": {
          "base_uri": "https://localhost:8080/"
        }
      },
      "source": [
        "# 6. Make a withdrawal that exceeds the available balance\n",
        "acct1.withdraw(500)"
      ],
      "execution_count": 32,
      "outputs": [
        {
          "output_type": "stream",
          "text": [
            "Sorry, the amount is more than your account balance\n"
          ],
          "name": "stdout"
        }
      ]
    },
    {
      "cell_type": "markdown",
      "metadata": {
        "id": "XJnRdlQel3Op"
      },
      "source": [
        "## Good job!\n",
        "Thank you!!"
      ]
    }
  ]
}