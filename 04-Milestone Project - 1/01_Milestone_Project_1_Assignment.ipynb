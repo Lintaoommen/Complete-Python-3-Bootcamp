{
  "nbformat": 4,
  "nbformat_minor": 0,
  "metadata": {
    "kernelspec": {
      "display_name": "Python 3",
      "language": "python",
      "name": "python3"
    },
    "language_info": {
      "codemirror_mode": {
        "name": "ipython",
        "version": 3
      },
      "file_extension": ".py",
      "mimetype": "text/x-python",
      "name": "python",
      "nbconvert_exporter": "python",
      "pygments_lexer": "ipython3",
      "version": "3.6.6"
    },
    "colab": {
      "name": "01-Milestone Project 1 - Assignment.ipynb",
      "provenance": []
    }
  },
  "cells": [
    {
      "cell_type": "markdown",
      "metadata": {
        "id": "QBZgRifwRFeI"
      },
      "source": [
        "___\n",
        "\n",
        "<a href='https://www.udemy.com/user/joseportilla/'><img src='../Pierian_Data_Logo.png'/></a>\n",
        "___\n",
        "<center><em>Content Copyright by Pierian Data</em></center>"
      ]
    },
    {
      "cell_type": "markdown",
      "metadata": {
        "id": "PuqvOlMvRFeN"
      },
      "source": [
        "# Milestone Project 1\n",
        "## Congratulations on making it to your first milestone!\n",
        "You've already learned a ton and are ready to work on a real project.\n",
        "\n",
        "Your assignment: Create a Tic Tac Toe game. You are free to use any IDE you like.\n",
        "\n",
        "Here are the requirements:\n",
        "\n",
        "* 2 players should be able to play the game (both sitting at the same computer)\n",
        "* The board should be printed out every time a player makes a move\n",
        "* You should be able to accept input of the player position and then place a symbol on the board\n",
        "\n",
        "Feel free to use Google to help you figure anything out (but don't just Google \"Tic Tac Toe in Python\" otherwise you won't learn anything!) Keep in mind that this project can take anywhere between several hours to several days.\n",
        "\n",
        "There are 4 Jupyter Notebooks related to this assignment:\n",
        "\n",
        "* This Assignment Notebook\n",
        "* A \"Walkthrough Steps Workbook\" Notebook\n",
        "* A \"Complete Walkthrough Solution\" Notebook\n",
        "* An \"Advanced Solution\" Notebook\n",
        "\n",
        "I encourage you to just try to start the project on your own without referencing any of the notebooks. If you get stuck, check out the next lecture which is a text lecture with helpful hints and steps. If you're still stuck after that, then check out the Walkthrough Steps Workbook, which breaks up the project in steps for you to solve. Still stuck? Then check out the Complete Walkthrough Solution video for more help on approaching the project!"
      ]
    },
    {
      "cell_type": "markdown",
      "metadata": {
        "id": "oit3XQ2sRFeR"
      },
      "source": [
        "There are parts of this that will be a struggle...and that is good! I have complete faith that if you have made it this far through the course you have all the tools and knowledge to tackle this project. Remember, it's totally open book, so take your time, do a little research, and remember:\n",
        "\n",
        "## HAVE FUN!\n",
        "====>>> SURE <<<===="
      ]
    },
    {
      "cell_type": "markdown",
      "metadata": {
        "id": "iBuXtUdvRXI8"
      },
      "source": [
        "# Attempting the MileStone Project\n"
      ]
    },
    {
      "cell_type": "code",
      "metadata": {
        "id": "gS0rHTKIRqqj",
        "outputId": "8dfd97d9-6ff0-4880-fcc9-005875ffd8ce",
        "colab": {
          "base_uri": "https://localhost:8080/"
        }
      },
      "source": [
        "position_dict = {'1': ' ', '2': ' ', '3': ' ', '4': ' ', '5': ' ', '6': ' ', '7': ' ', '8': ' ', '9': ' '}\n",
        "winning_spots = [('1', '5', '9'), ('3', '5', '7'), ('2', '5', '8'), ('1', '4', '7'), ('3', '6', '9'), ('1', '2', '3'),\n",
        "                 ('4', '5', '6'), ('7', '8', '9')]\n",
        "\n",
        "\n",
        "def display_board():\n",
        "    print(\"\\nThe positions are 1 from top right filled from left to right\")\n",
        "    for i in range(1, 10):\n",
        "        if i == 4 or i == 7:\n",
        "            print('\\n--|---|---|')\n",
        "        print(f'{position_dict[str(i)]} |\\t', end=\"\")\n",
        "\n",
        "\n",
        "def check_if_game_ends():\n",
        "    if ' ' not in position_dict.values():\n",
        "        print('Game over, No one wins')\n",
        "        return True\n",
        "    for a, b, c in winning_spots:\n",
        "        if position_dict[a] == position_dict[b] == position_dict[c] and position_dict[a] != ' ':\n",
        "            display_board()\n",
        "            print(f'{position_dict[a]} wins the game')\n",
        "            return True\n",
        "    return False\n",
        "\n",
        "\n",
        "def play_game():\n",
        "    choice = input(\"Does Player 1 choose X or O (insert X or O) : \")\n",
        "    while (True):\n",
        "        display_board()\n",
        "        position = input(f'\\nEnter the position to enter the {choice} ')\n",
        "        position_dict[position] = choice\n",
        "        if check_if_game_ends():\n",
        "            break\n",
        "        choice = 'O' if choice == 'X' else 'X'\n",
        "\n",
        "\n",
        "play_game()\n"
      ],
      "execution_count": 2,
      "outputs": [
        {
          "output_type": "stream",
          "text": [
            "Does Player 1 choose X or O (insert X or O) : X\n",
            "\n",
            "The positions are 1 from top right filled from left to right\n",
            "  |\t  |\t  |\t\n",
            "--|---|---|\n",
            "  |\t  |\t  |\t\n",
            "--|---|---|\n",
            "  |\t  |\t  |\t\n",
            "Enter the position to enter the X 1\n",
            "\n",
            "The positions are 1 from top right filled from left to right\n",
            "X |\t  |\t  |\t\n",
            "--|---|---|\n",
            "  |\t  |\t  |\t\n",
            "--|---|---|\n",
            "  |\t  |\t  |\t\n",
            "Enter the position to enter the O 3\n",
            "\n",
            "The positions are 1 from top right filled from left to right\n",
            "X |\t  |\tO |\t\n",
            "--|---|---|\n",
            "  |\t  |\t  |\t\n",
            "--|---|---|\n",
            "  |\t  |\t  |\t\n",
            "Enter the position to enter the X 4\n",
            "\n",
            "The positions are 1 from top right filled from left to right\n",
            "X |\t  |\tO |\t\n",
            "--|---|---|\n",
            "X |\t  |\t  |\t\n",
            "--|---|---|\n",
            "  |\t  |\t  |\t\n",
            "Enter the position to enter the O 7\n",
            "\n",
            "The positions are 1 from top right filled from left to right\n",
            "X |\t  |\tO |\t\n",
            "--|---|---|\n",
            "X |\t  |\t  |\t\n",
            "--|---|---|\n",
            "O |\t  |\t  |\t\n",
            "Enter the position to enter the X 5\n",
            "\n",
            "The positions are 1 from top right filled from left to right\n",
            "X |\t  |\tO |\t\n",
            "--|---|---|\n",
            "X |\tX |\t  |\t\n",
            "--|---|---|\n",
            "O |\t  |\t  |\t\n",
            "Enter the position to enter the O 6\n",
            "\n",
            "The positions are 1 from top right filled from left to right\n",
            "X |\t  |\tO |\t\n",
            "--|---|---|\n",
            "X |\tX |\tO |\t\n",
            "--|---|---|\n",
            "O |\t  |\t  |\t\n",
            "Enter the position to enter the X 9\n",
            "\n",
            "The positions are 1 from top right filled from left to right\n",
            "X |\t  |\tO |\t\n",
            "--|---|---|\n",
            "X |\tX |\tO |\t\n",
            "--|---|---|\n",
            "O |\t  |\tX |\tX wins the game\n"
          ],
          "name": "stdout"
        }
      ]
    }
  ]
}